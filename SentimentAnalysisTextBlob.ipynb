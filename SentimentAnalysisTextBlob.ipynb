{
 "cells": [
  {
   "cell_type": "code",
   "execution_count": null,
   "metadata": {},
   "outputs": [],
   "source": [
    "import pandas as pd\n",
    "from textblob import TextBlob\n",
    "\n",
    "# Correct file path and filename\n",
    "file_path = 'C:\\\\Users\\\\ethan\\\\Downloads\\\\Reviews - Sheet1.csv'\n",
    "df = pd.read_csv(file_path)\n",
    "\n",
    "# Replace 'Review' with the actual column name from your CSV file\n",
    "for review in df['Review']:\n",
    "    blob = TextBlob(review)\n",
    "    print(f\"Review: {review}\")\n",
    "    print(f\"Sentiment: Polarity={blob.sentiment.polarity}, Subjectivity={blob.sentiment.subjectivity}\\n\")\n"
   ]
  }
 ],
 "metadata": {
  "kernelspec": {
   "display_name": "Python 3",
   "language": "python",
   "name": "python3"
  },
  "language_info": {
   "name": "python",
   "version": "3.12.1"
  }
 },
 "nbformat": 4,
 "nbformat_minor": 2
}
